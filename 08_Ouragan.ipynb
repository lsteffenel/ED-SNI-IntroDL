{
  "nbformat": 4,
  "nbformat_minor": 0,
  "metadata": {
    "colab": {
      "provenance": [],
      "gpuType": "T4",
      "authorship_tag": "ABX9TyM4ucmFFO0Gq/mq3QJaSNvr"
    },
    "kernelspec": {
      "name": "python3",
      "display_name": "Python 3"
    },
    "language_info": {
      "name": "python"
    },
    "accelerator": "GPU"
  },
  "cells": [
    {
      "cell_type": "markdown",
      "source": [
        "<table class=\"tfo-notebook-buttons\" align=\"left\">\n",
        "  <td>\n",
        "    <a target=\"_blank\" href=\"https://colab.research.google.com/github/lsteffenel/ED-SNI-IntroDL/blob/main/08_Ouragan.ipynb\"><img src=\"https://www.tensorflow.org/images/colab_logo_32px.png\" />Run in Google Colab</a>\n",
        "  </td>\n",
        "</table>"
      ],
      "metadata": {
        "id": "wVQSYiemRBmD"
      }
    },
    {
      "cell_type": "markdown",
      "source": [
        "#Objectifs : \n",
        "Dans l’exercice « Transfer Learning » vous avez utilisé un modèle pré-entrainé sur ImageNet (défi contenant des milliers d’images et 1000 classes d’objets) afin de différencier le chien du Président Obama des autres chiens et animaux.\n",
        "\n",
        "Vous allez reproduire le même exercice, cette fois-ci en faisant la différence entre des régions sinistrées ou pas après le passage d’un ouragan.\n",
        "\n",
        "Pour cela, utilisez le dataset disponible à l’adresse suivant :\n",
        "\n",
        "http://urca.lsteffenel.fr/IntroDL/hurricane.zip\n",
        "\n",
        "Ce dataset contient deux sous-répertoires « train » et « valid », eux aussi sous-divisés en « damage » et « no-damage ».\n",
        "\n",
        "Vous pouvez reprendre le notebook « 05_Transfer_learning.ipynb » et changer la source des données afin d’utiliser ce nouveau dataset. N’oubliez pas d’activer le mode d’exécution «GPU » sinon votre entraînement prendra des heures !!! (Menu « Exécution -> Modifier le type d’exécution)\n",
        "\n",
        "https://colab.research.google.com/github/lsteffenel/ED-SNI-IntroDL/blob/main/blob/main/05_Transfer_learning.ipynb \n",
        "\n",
        "\n"
      ],
      "metadata": {
        "id": "giv8BrHdRpHG"
      }
    },
    {
      "cell_type": "markdown",
      "source": [
        "#Challenges :\n",
        "## 1 – Entraîner votre modèle avec le modèle VGG\n",
        "\n",
        "# VGG model pre-trained on the imagenet has been taken as base model \n",
        "```\n",
        "base_model = tf.keras.applications.vgg16.VGG16(\n",
        "    include_top=False,\n",
        "    weights='imagenet',\n",
        "    input_tensor=None,\n",
        "    input_shape=(224,224,3)\n",
        ")\n",
        "```\n"
      ],
      "metadata": {
        "id": "N0D8UhHQS0tk"
      }
    },
    {
      "cell_type": "code",
      "source": [],
      "metadata": {
        "id": "wCynpAG6Q_RJ"
      },
      "execution_count": null,
      "outputs": []
    },
    {
      "cell_type": "markdown",
      "source": [
        "## 2 – Comparer l’accuracy de VGG avec d’autres modèles disponibles :\n",
        "\n",
        "### Resnet model pre-trained on the imagenet has been taken as base model \n",
        "```\n",
        "resnet = tf.keras.applications.resnet50.ResNet50(\n",
        "    include_top=False,\n",
        "    weights='imagenet',\n",
        "    input_tensor=None,\n",
        "    input_shape=(224,224,3)\n",
        ")\n",
        "```\n"
      ],
      "metadata": {
        "id": "HstTKfrbTFfB"
      }
    },
    {
      "cell_type": "code",
      "source": [],
      "metadata": {
        "id": "TI0Ai8xqTRMQ"
      },
      "execution_count": null,
      "outputs": []
    },
    {
      "cell_type": "markdown",
      "source": [
        "## 3 - Inception model pre-trained on the imagenet has been taken as base model \n",
        "```\n",
        "incep = tf.keras.applications.inception_v3.InceptionV3(\n",
        "    include_top=False,\n",
        "    weights='imagenet',\n",
        "    input_tensor=None,\n",
        "    input_shape=(224,224,3)\n",
        ")\n",
        "```\n"
      ],
      "metadata": {
        "id": "co9-Zbq6TRzP"
      }
    },
    {
      "cell_type": "code",
      "source": [],
      "metadata": {
        "id": "wqgv7M2iTbru"
      },
      "execution_count": null,
      "outputs": []
    },
    {
      "cell_type": "markdown",
      "source": [
        "## Augmentation de données\n",
        "Dans l’exercice avec le chien, vous avez fait quelques augmentations du dataset (rotations, par exemple). Essayer d’autres paramètres pour l’augmentation qui vous semblent plus adéquats au type d’image que nous avons. \n",
        "\n"
      ],
      "metadata": {
        "id": "ocMxzLx8TcbG"
      }
    },
    {
      "cell_type": "code",
      "source": [],
      "metadata": {
        "id": "HmcTGdYjTfli"
      },
      "execution_count": null,
      "outputs": []
    },
    {
      "cell_type": "markdown",
      "source": [
        "# Exploration du réseau\n",
        "Également, le modèle du TP avait rajouté des couches simples à la sortie (un averagePooling et un réseau dense d’un seul neurone à la sortie). Est-ce que vous obtiendrez une accuracy plus importante en rajoutant des couches supplémentaires ? Essayez par exemple une deuxième couche dense avec X neurones, avant la couche de sortie."
      ],
      "metadata": {
        "id": "gBTlHRmSTgS1"
      }
    },
    {
      "cell_type": "code",
      "source": [],
      "metadata": {
        "id": "y33JmlewTi-P"
      },
      "execution_count": null,
      "outputs": []
    }
  ]
}