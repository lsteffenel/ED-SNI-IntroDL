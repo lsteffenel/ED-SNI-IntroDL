{
  "cells": [
    {
      "cell_type": "markdown",
      "metadata": {
        "id": "view-in-github",
        "colab_type": "text"
      },
      "source": [
        "<a href=\"https://colab.research.google.com/github/lsteffenel/ED-SNI-IntroDL/blob/main/03_Classification_FashionMNIST.ipynb\" target=\"_parent\"><img src=\"https://colab.research.google.com/assets/colab-badge.svg\" alt=\"Open In Colab\"/></a>"
      ]
    },
    {
      "cell_type": "markdown",
      "metadata": {
        "id": "jYysdyb-CaWM"
      },
      "source": [
        "# Introduction à la classification : des images de vêtements"
      ]
    },
    {
      "cell_type": "markdown",
      "metadata": {
        "id": "FbVhjPpzn6BM"
      },
      "source": [
        "Ce guide forme un modèle de réseau neuronal pour classer les images de vêtements, comme les baskets et les chemises. Ce n'est pas grave si vous ne comprenez pas tous les détails; il s'agit d'un aperçu rapide d'un programme TensorFlow complet avec les détails expliqués au fur et à mesure.\n",
        "\n",
        "Ce guide utilise [keras](https://keras.io/), une API de haut niveau pour créer et former des modèles dans TensorFlow (ou pytorch, si vous selectionnez l'autre option). En effet, c'est très transparent, vous n'aurez aucune ligne supplémentaire à changer, sauf si vous voulez des fonctionnalités spécifiques de chacun des frameworks."
      ]
    },
    {
      "cell_type": "code",
      "execution_count": null,
      "metadata": {
        "id": "dzLKpmZICaWN"
      },
      "outputs": [],
      "source": [
        "import os\n",
        "os.environ[\"KERAS_BACKEND\"] = \"tensorflow\"\n",
        "#os.environ[\"KERAS_BACKEND\"] = \"torch\"\n",
        "\n",
        "import keras\n",
        "\n",
        "# Helper libraries\n",
        "import numpy as np\n",
        "import matplotlib.pyplot as plt\n",
        "%matplotlib inline\n",
        "import math\n",
        "\n",
        "print(keras.__version__)\n"
      ]
    },
    {
      "cell_type": "markdown",
      "metadata": {
        "id": "yR0EdgrLCaWR"
      },
      "source": [
        "## Importer le dataset Fashion MNIST"
      ]
    },
    {
      "cell_type": "markdown",
      "metadata": {
        "id": "DLdCchMdCaWQ"
      },
      "source": [
        " Ce guide utilise le jeu de données [Fashion MNIST](https://github.com/zalandoresearch/fashion-mnist) qui contient 70 000 images en niveaux de gris dans 10 catégories. Les images montrent des vêtements individuels à basse résolution (28 par 28 pixels), comme on le voit ici :\n",
        "\n",
        "<table>\n",
        "  <tr><td>\n",
        "    <img src=\"https://tensorflow.org/images/fashion-mnist-sprite.png\"\n",
        "         alt=\"Fashion MNIST sprite\"  width=\"600\">\n",
        "  </td></tr>\n",
        "  <tr><td align=\"center\">\n",
        "    <b>Figure 1.</b> <a href=\"https://github.com/zalandoresearch/fashion-mnist\">Fashion-MNIST samples</a> (by Zalando, MIT License).<br/>&nbsp;\n",
        "  </td></tr>\n",
        "</table>\n",
        "\n",
        "Fashion MNIST est conçu pour remplacer l'ensemble de données [MNIST](http://yann.lecun.com/exdb/mnist/) classique, souvent utilisé comme \"Hello, World\" des programmes d'apprentissage automatique pour la vision par ordinateur. Le jeu de données MNIST contient des images de chiffres manuscrits (0, 1, 2, etc.) dans un format identique à celui des vêtements que vous utiliserez ici.\n",
        "\n",
        "Ce guide utilise Fashion MNIST pour la variété et parce que c'est un problème légèrement plus difficile que le MNIST ordinaire. Les deux ensembles de données sont relativement petits et sont utilisés pour vérifier qu'un algorithme fonctionne comme prévu. Ce sont de bons points de départ pour tester et déboguer le code.\n",
        "\n",
        "Ici, 60 000 images sont utilisées pour former le réseau et 10 000 images pour évaluer la précision avec laquelle le réseau a appris à classer les images. Vous pouvez accéder au Fashion MNIST directement depuis TensorFlow. Importez et chargez les données [Fashion MNIST data](https://www.tensorflow.org/api_docs/python/tf/keras/datasets/fashion_mnist/load_data) directement depuis TensorFlow :"
      ]
    },
    {
      "cell_type": "code",
      "execution_count": null,
      "metadata": {
        "id": "7MqDQO0KCaWS"
      },
      "outputs": [],
      "source": [
        "fashion_mnist = keras.datasets.fashion_mnist\n",
        "\n",
        "(train_images, train_labels), (test_images, test_labels) = fashion_mnist.load_data()"
      ]
    },
    {
      "cell_type": "markdown",
      "metadata": {
        "id": "t9FDsUlxCaWW"
      },
      "source": [
        "Le chargement de l'ensemble de données renvoie quatre tableaux NumPy :\n",
        "\n",
        "* Les tableaux `train_images` et `train_labels` sont l'*ensemble d'apprentissage* - les données que le modèle utilise pour apprendre.\n",
        "* Le modèle est testé par rapport à l'*ensemble de tests*, aux tableaux `test_images` et `test_labels`.\n",
        "\n",
        "Les images sont des tableaux NumPy 28x28, avec des valeurs de pixels allant de 0 à 255. Les *étiquettes* sont un tableau d'entiers, allant de 0 à 9. Ceux-ci correspondent à la *classe* de vêtements que l'image représente :\n",
        "\n",
        "\n",
        "<table>\n",
        "  <tr>\n",
        "    <th>Label</th>\n",
        "    <th>Class</th>\n",
        "  </tr>\n",
        "  <tr>\n",
        "    <td>0</td>\n",
        "    <td>T-shirt/top</td>\n",
        "  </tr>\n",
        "  <tr>\n",
        "    <td>1</td>\n",
        "    <td>Trouser</td>\n",
        "  </tr>\n",
        "    <tr>\n",
        "    <td>2</td>\n",
        "    <td>Pullover</td>\n",
        "  </tr>\n",
        "    <tr>\n",
        "    <td>3</td>\n",
        "    <td>Dress</td>\n",
        "  </tr>\n",
        "    <tr>\n",
        "    <td>4</td>\n",
        "    <td>Coat</td>\n",
        "  </tr>\n",
        "    <tr>\n",
        "    <td>5</td>\n",
        "    <td>Sandal</td>\n",
        "  </tr>\n",
        "    <tr>\n",
        "    <td>6</td>\n",
        "    <td>Shirt</td>\n",
        "  </tr>\n",
        "    <tr>\n",
        "    <td>7</td>\n",
        "    <td>Sneaker</td>\n",
        "  </tr>\n",
        "    <tr>\n",
        "    <td>8</td>\n",
        "    <td>Bag</td>\n",
        "  </tr>\n",
        "    <tr>\n",
        "    <td>9</td>\n",
        "    <td>Ankle boot</td>\n",
        "  </tr>\n",
        "</table>\n",
        "\n",
        "Chaque image est associée à une seule étiquette. Étant donné que les *noms de classe* ne sont pas inclus dans le jeu de données, stockez-les ici pour les utiliser ultérieurement lors du traçage des images :\n"
      ]
    },
    {
      "cell_type": "code",
      "execution_count": null,
      "metadata": {
        "id": "IjnLH5S2CaWx"
      },
      "outputs": [],
      "source": [
        "class_names = ['T-shirt/top', 'Trouser', 'Pullover', 'Dress', 'Coat',\n",
        "               'Sandal', 'Shirt', 'Sneaker', 'Bag', 'Ankle boot']"
      ]
    },
    {
      "cell_type": "markdown",
      "metadata": {
        "id": "Brm0b_KACaWX"
      },
      "source": [
        "## Explorer les données\n",
        "\n",
        "Explorons le format de l'ensemble de données avant de former le modèle. L'exemple suivant montre qu'il y a 60 000 images dans l'ensemble d'apprentissage, chaque image étant représentée en 28 x 28 pixels :"
      ]
    },
    {
      "cell_type": "code",
      "execution_count": null,
      "metadata": {
        "id": "zW5k_xz1CaWX"
      },
      "outputs": [],
      "source": [
        "train_images.shape"
      ]
    },
    {
      "cell_type": "markdown",
      "metadata": {
        "id": "cIAcvQqMCaWf"
      },
      "source": [
        "De même, il y a 60 000 libellés dans l'ensemble d'apprentissage :"
      ]
    },
    {
      "cell_type": "code",
      "execution_count": null,
      "metadata": {
        "id": "TRFYHB2mCaWb"
      },
      "outputs": [],
      "source": [
        "len(train_labels)"
      ]
    },
    {
      "cell_type": "markdown",
      "metadata": {
        "id": "YSlYxFuRCaWk"
      },
      "source": [
        "Chaque étiquette est un entier compris entre 0 et 9 :"
      ]
    },
    {
      "cell_type": "code",
      "execution_count": null,
      "metadata": {
        "id": "XKnCTHz4CaWg"
      },
      "outputs": [],
      "source": [
        "train_labels"
      ]
    },
    {
      "cell_type": "markdown",
      "metadata": {
        "id": "TMPI88iZpO2T"
      },
      "source": [
        "Il y a 10 000 images dans le jeu de test. Encore une fois, chaque image est représentée en 28 x 28 pixels :"
      ]
    },
    {
      "cell_type": "code",
      "execution_count": null,
      "metadata": {
        "id": "2KFnYlcwCaWl"
      },
      "outputs": [],
      "source": [
        "test_images.shape"
      ]
    },
    {
      "cell_type": "markdown",
      "metadata": {
        "id": "rd0A0Iu0CaWq"
      },
      "source": [
        "Et le jeu de test contient 10 000 étiquettes d'images :"
      ]
    },
    {
      "cell_type": "code",
      "execution_count": null,
      "metadata": {
        "id": "iJmPr5-ACaWn"
      },
      "outputs": [],
      "source": [
        "len(test_labels)"
      ]
    },
    {
      "cell_type": "markdown",
      "metadata": {
        "id": "ES6uQoLKCaWr"
      },
      "source": [
        "## Prétraiter les données\n",
        "\n",
        "Les données doivent être prétraitées avant de former le réseau. Si vous inspectez la première image de l'ensemble d'apprentissage, vous verrez que les valeurs de pixel se situent dans la plage de 0 à 255 :"
      ]
    },
    {
      "cell_type": "code",
      "execution_count": null,
      "metadata": {
        "id": "m4VEw8Ud9Quh"
      },
      "outputs": [],
      "source": [
        "plt.figure()\n",
        "plt.imshow(train_images[0])\n",
        "plt.colorbar()\n",
        "plt.grid(False)\n",
        "plt.show()"
      ]
    },
    {
      "cell_type": "markdown",
      "metadata": {
        "id": "Wz7l27Lz9S1P"
      },
      "source": [
        "Mettez ces valeurs à l'échelle dans une plage de 0 à 1 avant de les alimenter au modèle de réseau neuronal. Pour ce faire, divisez les valeurs par 255. Il est important que l'*ensemble d'apprentissage* et l'*ensemble de test* soient prétraités de la même manière :"
      ]
    },
    {
      "cell_type": "code",
      "execution_count": null,
      "metadata": {
        "id": "bW5WzIPlCaWv"
      },
      "outputs": [],
      "source": [
        "train_images = train_images / 255.0\n",
        "\n",
        "test_images = test_images / 255.0"
      ]
    },
    {
      "cell_type": "markdown",
      "metadata": {
        "id": "Ee638AlnCaWz"
      },
      "source": [
        "Pour vérifier que les données sont au format correct et que vous êtes prêt à construire et former le réseau, affichons les 25 premières images de l'*ensemble d'entraînement* et affichons le nom de la classe sous chaque image."
      ]
    },
    {
      "cell_type": "code",
      "execution_count": null,
      "metadata": {
        "id": "oZTImqg_CaW1"
      },
      "outputs": [],
      "source": [
        "plt.figure(figsize=(10,10))\n",
        "for i in range(25):\n",
        "    plt.subplot(5,5,i+1)\n",
        "    plt.xticks([])\n",
        "    plt.yticks([])\n",
        "    plt.grid(False)\n",
        "    plt.imshow(train_images[i], cmap=plt.cm.binary)\n",
        "    plt.xlabel(class_names[train_labels[i]])\n",
        "plt.show()"
      ]
    },
    {
      "cell_type": "markdown",
      "metadata": {
        "id": "59veuiEZCaW4"
      },
      "source": [
        "## Un premier modèle avec un réseau Dense (DNN)\n",
        "\n",
        "Dans cette première étape, nous allons construire le réseau de neurones avec un modèle dense (DNN)."
      ]
    },
    {
      "cell_type": "markdown",
      "metadata": {
        "id": "Gxg1XGm0eOBy"
      },
      "source": [
        "### Mettre en place des couches\n",
        "\n",
        "Le bloc de construction de base d'un réseau de neurones est la [*couche*](https://keras.io/api/layers/). Les couches extraient des représentations des données qui y sont introduites. Espérons que ces représentations sont significatives pour le problème à résoudre.\n",
        "\n",
        "L'essentiel de l'apprentissage en profondeur consiste à enchaîner des couches simples. La plupart des couches, telles que `keras.layers.Dense`, ont des paramètres appris lors de la formation."
      ]
    },
    {
      "cell_type": "code",
      "execution_count": null,
      "metadata": {
        "id": "9ODch-OFCaW4"
      },
      "outputs": [],
      "source": [
        "from keras import layers\n",
        "from keras import optimizers\n",
        "\n",
        "model = keras.Sequential()\n",
        "model.add(layers.Input((28,28)))\n",
        "model.add(layers.Flatten())\n",
        "model.add(layers.Dense(128, activation='relu'))\n",
        "model.add(layers.Dense(10))"
      ]
    },
    {
      "cell_type": "markdown",
      "metadata": {
        "id": "gut8A_7rCaW6"
      },
      "source": [
        "La première couche de ce réseau, `keras.layers.Flatten`, transforme le format des images d'un tableau bidimensionnel (de 28 par 28 pixels) en un tableau unidimensionnel (de 28 * 28 = 784 pixels). Considérez ce calque comme si on désempillait les rangées de pixels et les alignait. Cette couche n'a aucun paramètre à apprendre, elle ne fait que reformater les données.\n",
        "\n",
        "Une fois les pixels aplatis, le réseau rajoute deux couches `keras.layers.Dense`. Ce sont des couches neuronales densément connectées (ou totalement connectées). La première couche `Dense` compte 128 nœuds (ou neurones). La deuxième (et dernière) couche renvoie un tableau logits d'une longueur de 10. Chaque nœud contient un score indiquant que l'image actuelle appartient à l'une des 10 classes.\n",
        "\n",
        "Nous appelons ce modèle **dense** car tous les neurones d'une couche sont connectés à la sortie de tous les neurones de la couche précédente. Ainsi, par exemple, le premier neurone de la couche de sortie reçoit les informations de tous les 128 neurones de la couche intermédiaire. Ce type de réseau peut présenter des limitations tant en performance qu'en généralisation.\n",
        "\n",
        "\n",
        "### Compiler le modèle\n",
        "\n",
        "Avant que le modèle ne soit prêt pour l'entraînement, il a besoin de quelques réglages supplémentaires. Ceux-ci sont ajoutés lors de l'étape de compilation du modèle :\n",
        "\n",
        "* [*Fonction de perte*](https://www.tensorflow.org/api_docs/python/tf/keras/losses) : mesure la précision du modèle pendant l'entraînement. Vous souhaitez minimiser cette fonction pour \"orienter\" le modèle dans la bonne direction.\n",
        "*[*Optimiseur*](https://www.tensorflow.org/api_docs/python/tf/keras/optimizers) : c'est ainsi que le modèle est mis à jour en fonction des données qu'il voit et de sa fonction de perte.\n",
        "*[*Métriques*](https://www.tensorflow.org/api_docs/python/tf/keras/metrics)  : utilisées pour surveiller les étapes de formation et de test. L'exemple suivant utilise l'*accuracy*, la fraction des images qui sont correctement classées.\n"
      ]
    },
    {
      "cell_type": "code",
      "execution_count": null,
      "metadata": {
        "id": "Lhan11blCaW7"
      },
      "outputs": [],
      "source": [
        "model.compile(optimizer='adam',\n",
        "              loss=keras.losses.SparseCategoricalCrossentropy(from_logits=True),\n",
        "              metrics=['accuracy'])"
      ]
    },
    {
      "cell_type": "markdown",
      "metadata": {
        "id": "qKF6uW-BCaW-"
      },
      "source": [
        "## Entraîner le modèle\n",
        "\n",
        "L'entraînement du modèle de réseau neuronal nécessite les étapes suivantes :\n",
        "\n",
        "1. Transférez les données de formation au modèle. Dans cet exemple, les données d'apprentissage se trouvent dans les tableaux `train_images` et `train_labels`.\n",
        "2. Le modèle apprend à associer des images et des étiquettes.\n",
        "3. Vous demandez au modèle de faire des prédictions sur un jeu de test — dans cet exemple, le tableau `test_images`.\n",
        "4. Vérifiez que les prédictions correspondent aux étiquettes du tableau `test_labels`.\n"
      ]
    },
    {
      "cell_type": "markdown",
      "metadata": {
        "id": "Z4P4zIV7E28Z"
      },
      "source": [
        "### 1. Alimenter le modèle avec des données\n",
        "\n",
        "Pour commencer l'entraînement, appelez la méthode [`model.fit`](https://www.tensorflow.org/api_docs/python/tf/keras/Model#fit), ainsi appelée car elle \"adapte\" le modèle aux données d'entraînement. Nous avons indiqué au modèle de repasser 10x sur l'ensemble de données (on apprend toujours plus si on revise plusieurs fois)."
      ]
    },
    {
      "cell_type": "code",
      "execution_count": null,
      "metadata": {
        "id": "xvwvpA64CaW_"
      },
      "outputs": [],
      "source": [
        "model.fit(train_images, train_labels, epochs=10)"
      ]
    },
    {
      "cell_type": "markdown",
      "metadata": {
        "id": "W3ZVOhugCaXA"
      },
      "source": [
        "Au fur et à mesure que le modèle s'entraîne, les métriques de perte et de précision sont affichées. Ce modèle atteint une accuracy d'environ 0,91 (ou 91%) sur les données d'apprentissage."
      ]
    },
    {
      "cell_type": "markdown",
      "metadata": {
        "id": "wCpr6DGyE28h"
      },
      "source": [
        "### Évaluer l'accuracy\n",
        "\n",
        "Ensuite, comparez les performances du modèle sur l'ensemble de données de test :"
      ]
    },
    {
      "cell_type": "code",
      "execution_count": null,
      "metadata": {
        "id": "VflXLEeECaXC"
      },
      "outputs": [],
      "source": [
        "test_loss, test_acc = model.evaluate(test_images,  test_labels, verbose=2)\n",
        "\n",
        "print('\\nTest accuracy:', test_acc)"
      ]
    },
    {
      "cell_type": "markdown",
      "metadata": {
        "id": "yWfgsmVXCaXG"
      },
      "source": [
        "Il s'avère que l'accuracy sur l'ensemble de données de test est un peu inférieure à l'accuracy sur l'ensemble de données d'apprentissage.\n",
        "\n",
        "Cet écart entre la précision de l'entraînement et la précision des tests peut s'expliquer par un *surapprentissage*. Le surapprentissage se produit lorsqu'un modèle d'apprentissage automatique fonctionne moins bien sur de nouvelles entrées inédites que sur les données d'apprentissage. Un modèle surajusté \"mémorise\" le bruit et les détails dans l'ensemble de données d'apprentissage à un point tel qu'il a un impact négatif sur les performances du modèle sur les nouvelles données. Pour plus d'informations, consultez les éléments suivants :\n",
        "*   [Démonstration d'overfitting](https://www.tensorflow.org/tutorials/keras/overfit_and_underfit#demonstrate_overfitting)\n",
        "*   [Stratégies pour éviter l'overfitting](https://www.tensorflow.org/tutorials/keras/overfit_and_underfit#strategies_to_prevent_overfitting)"
      ]
    },
    {
      "cell_type": "markdown",
      "metadata": {
        "id": "v-PyD1SYE28q"
      },
      "source": [
        "### Faire des prédictions\n",
        "Avec le modèle formé, vous pouvez l'utiliser pour faire des prédictions sur certaines images. Attachez une couche softmax pour convertir les sorties linéaires du modèle ([logits](https://developers.google.com/machine-learning/glossary#logits)) en probabilités, ce qui devrait être plus facile à interpréter."
      ]
    },
    {
      "cell_type": "code",
      "execution_count": null,
      "metadata": {
        "id": "DnfNA0CrQLSD"
      },
      "outputs": [],
      "source": [
        "probability_model = keras.Sequential([model,\n",
        "                                         keras.layers.Softmax()])"
      ]
    },
    {
      "cell_type": "code",
      "execution_count": null,
      "metadata": {
        "id": "Gl91RPhdCaXI"
      },
      "outputs": [],
      "source": [
        "predictions = probability_model.predict(test_images)"
      ]
    },
    {
      "cell_type": "markdown",
      "metadata": {
        "id": "x9Kk1voUCaXJ"
      },
      "source": [
        "Ici, le modèle a prédit l'étiquette pour chaque image de l'ensemble de test. Affichons la prédiction pour la première image :"
      ]
    },
    {
      "cell_type": "code",
      "execution_count": null,
      "metadata": {
        "id": "3DmJEUinCaXK"
      },
      "outputs": [],
      "source": [
        "predictions[0]"
      ]
    },
    {
      "cell_type": "markdown",
      "metadata": {
        "id": "-hw1hgeSCaXN"
      },
      "source": [
        "Une prédiction est un tableau de 10 nombres. Ils représentent la \"confiance\" du modèle que l'image correspond à chacun des 10 vêtements différents. Vous pouvez voir quelle étiquette a la valeur de confiance la plus élevée :"
      ]
    },
    {
      "cell_type": "code",
      "execution_count": null,
      "metadata": {
        "id": "qsqenuPnCaXO"
      },
      "outputs": [],
      "source": [
        "np.argmax(predictions[0])"
      ]
    },
    {
      "cell_type": "markdown",
      "metadata": {
        "id": "E51yS7iCCaXO"
      },
      "source": [
        "Ainsi, le modèle est plus sûr que cette image est une bottine, ou `class_names[9]`. L'examen de l'étiquette du test montre que cette classification est correcte :"
      ]
    },
    {
      "cell_type": "code",
      "execution_count": null,
      "metadata": {
        "id": "Sd7Pgsu6CaXP"
      },
      "outputs": [],
      "source": [
        "test_labels[0]"
      ]
    },
    {
      "cell_type": "markdown",
      "metadata": {
        "id": "ygh2yYC972ne"
      },
      "source": [
        "Représentez-le graphiquement pour examiner l'ensemble complet des 10 prédictions de classe."
      ]
    },
    {
      "cell_type": "code",
      "execution_count": null,
      "metadata": {
        "id": "DvYmmrpIy6Y1"
      },
      "outputs": [],
      "source": [
        "def plot_image(i, predictions_array, true_label, img):\n",
        "  true_label, img = true_label[i], img[i]\n",
        "  plt.grid(False)\n",
        "  plt.xticks([])\n",
        "  plt.yticks([])\n",
        "\n",
        "  plt.imshow(img, cmap=plt.cm.binary)\n",
        "\n",
        "  predicted_label = np.argmax(predictions_array)\n",
        "  if predicted_label == true_label:\n",
        "    color = 'blue'\n",
        "  else:\n",
        "    color = 'red'\n",
        "\n",
        "  plt.xlabel(\"{} {:2.0f}% ({})\".format(class_names[predicted_label],\n",
        "                                100*np.max(predictions_array),\n",
        "                                class_names[true_label]),\n",
        "                                color=color)\n",
        "\n",
        "def plot_value_array(i, predictions_array, true_label):\n",
        "  true_label = true_label[i]\n",
        "  plt.grid(False)\n",
        "  plt.xticks(range(10))\n",
        "  plt.yticks([])\n",
        "  thisplot = plt.bar(range(10), predictions_array, color=\"#777777\")\n",
        "  plt.ylim([0, 1])\n",
        "  predicted_label = np.argmax(predictions_array)\n",
        "\n",
        "  thisplot[predicted_label].set_color('red')\n",
        "  thisplot[true_label].set_color('blue')"
      ]
    },
    {
      "cell_type": "markdown",
      "metadata": {
        "id": "Zh9yABaME29S"
      },
      "source": [
        "### Vérifier les prédictions\n",
        "Avec le modèle formé, vous pouvez l'utiliser pour faire des prédictions sur certaines images.\n"
      ]
    },
    {
      "cell_type": "markdown",
      "metadata": {
        "id": "d4Ov9OFDMmOD"
      },
      "source": [
        "Regardons l'image 0, les prédictions et le tableau de prédiction. Les étiquettes de prédiction correctes sont bleues et les étiquettes de prédiction incorrectes sont rouges. Le nombre donne le pourcentage (sur 100) pour l'étiquette prédite."
      ]
    },
    {
      "cell_type": "code",
      "execution_count": null,
      "metadata": {
        "id": "HV5jw-5HwSmO"
      },
      "outputs": [],
      "source": [
        "i = 0\n",
        "plt.figure(figsize=(6,3))\n",
        "plt.subplot(1,2,1)\n",
        "plot_image(i, predictions[i], test_labels, test_images)\n",
        "plt.subplot(1,2,2)\n",
        "plot_value_array(i, predictions[i],  test_labels)\n",
        "plt.show()"
      ]
    },
    {
      "cell_type": "code",
      "execution_count": null,
      "metadata": {
        "id": "Ko-uzOufSCSe"
      },
      "outputs": [],
      "source": [
        "i = 12\n",
        "plt.figure(figsize=(6,3))\n",
        "plt.subplot(1,2,1)\n",
        "plot_image(i, predictions[i], test_labels, test_images)\n",
        "plt.subplot(1,2,2)\n",
        "plot_value_array(i, predictions[i],  test_labels)\n",
        "plt.show()"
      ]
    },
    {
      "cell_type": "markdown",
      "metadata": {
        "id": "kgdvGD52CaXR"
      },
      "source": [
        "Affichons plusieurs images avec leurs prédictions. Notez que le modèle peut se tromper même lorsqu'il est très confiant."
      ]
    },
    {
      "cell_type": "code",
      "execution_count": null,
      "metadata": {
        "id": "hQlnbqaw2Qu_"
      },
      "outputs": [],
      "source": [
        "# Plot the first X test images, their predicted labels, and the true labels.\n",
        "# Color correct predictions in blue and incorrect predictions in red.\n",
        "num_rows = 5\n",
        "num_cols = 3\n",
        "num_images = num_rows*num_cols\n",
        "plt.figure(figsize=(2*2*num_cols, 2*num_rows))\n",
        "for i in range(num_images):\n",
        "  plt.subplot(num_rows, 2*num_cols, 2*i+1)\n",
        "  plot_image(i, predictions[i], test_labels, test_images)\n",
        "  plt.subplot(num_rows, 2*num_cols, 2*i+2)\n",
        "  plot_value_array(i, predictions[i], test_labels)\n",
        "plt.tight_layout()\n",
        "plt.show()"
      ]
    },
    {
      "cell_type": "markdown",
      "metadata": {
        "id": "R32zteKHCaXT"
      },
      "source": [
        "## Utiliser le modèle entraîné\n",
        "Enfin, utilisez le modèle entraîné pour faire une prédiction sur une seule image."
      ]
    },
    {
      "cell_type": "code",
      "execution_count": null,
      "metadata": {
        "id": "yRJ7JU7JCaXT"
      },
      "outputs": [],
      "source": [
        "# Grab an image from the test dataset.\n",
        "img = test_images[1]\n",
        "\n",
        "print(img.shape)\n"
      ]
    },
    {
      "cell_type": "markdown",
      "metadata": {
        "id": "vz3bVp21CaXV"
      },
      "source": [
        "Les modèles `keras` sont optimisés pour effectuer des prédictions sur un *lot* (batch) ou une collection d'exemples à la fois. Par conséquent, même si vous utilisez une seule image, vous devez l'ajouter à une liste :"
      ]
    },
    {
      "cell_type": "code",
      "execution_count": null,
      "metadata": {
        "id": "lDFh5yF_CaXW"
      },
      "outputs": [],
      "source": [
        "# Add the image to a batch where it's the only member.\n",
        "img = (np.expand_dims(img,0))\n",
        "\n",
        "print(img.shape)"
      ]
    },
    {
      "cell_type": "code",
      "source": [
        "plt.imshow(img[0], cmap=plt.cm.binary)"
      ],
      "metadata": {
        "id": "1E15QtXh1cET"
      },
      "execution_count": null,
      "outputs": []
    },
    {
      "cell_type": "markdown",
      "metadata": {
        "id": "EQ5wLTkcCaXY"
      },
      "source": [
        "Prédisez maintenant le bon libellé pour cette image :"
      ]
    },
    {
      "cell_type": "code",
      "execution_count": null,
      "metadata": {
        "id": "o_rzNSdrCaXY"
      },
      "outputs": [],
      "source": [
        "predictions_single = probability_model.predict(img)\n",
        "\n",
        "print(predictions_single)"
      ]
    },
    {
      "cell_type": "code",
      "execution_count": null,
      "metadata": {
        "id": "6Ai-cpLjO-3A"
      },
      "outputs": [],
      "source": [
        "plot_value_array(1, predictions_single[0], test_labels)\n",
        "_ = plt.xticks(range(10), class_names, rotation=45)\n",
        "plt.show()"
      ]
    },
    {
      "cell_type": "markdown",
      "metadata": {
        "id": "cU1Y2OAMCaXb"
      },
      "source": [
        "`keras.Model.predict` renvoie une liste de listes, une liste pour chaque image du lot de données. Saisissez les prédictions pour notre (seule) image dans le lot :"
      ]
    },
    {
      "cell_type": "code",
      "execution_count": null,
      "metadata": {
        "id": "2tRmdq_8CaXb"
      },
      "outputs": [],
      "source": [
        "np.argmax(predictions_single[0])"
      ]
    },
    {
      "cell_type": "markdown",
      "metadata": {
        "id": "YFc2HbEVCaXd"
      },
      "source": [
        "Et le modèle prédit une étiquette comme prévu."
      ]
    },
    {
      "cell_type": "code",
      "source": [],
      "metadata": {
        "id": "wDp4k8T5nD_H"
      },
      "execution_count": null,
      "outputs": []
    },
    {
      "cell_type": "markdown",
      "source": [
        "# Création d'un modèle avec un réseau convolutionnel (CNN)\n",
        "\n",
        "Comme nous avons vu précédemment, le réseau présenté ci-dessus est de type **dense**, c'est-à-dire, chaque neurone d'une couche est connecté à la sortie de tous les neurones de la couche précédente.\n",
        "\n",
        "Ce type de construction peut avoir des problèmes de performance si le nombre de neurones/pixels est trop important. De plus, on *fige* les poids sur des parties spécifiques de l'image, ce qui peut gêner la classification si l'image comporte de variations.\n",
        "\n",
        "Dans cette section nous allons faire usage de couches de convolution et de pooling afin d'alléger le modèle et le rendre plus flexible."
      ],
      "metadata": {
        "id": "4wHR4UiNquB6"
      }
    },
    {
      "cell_type": "markdown",
      "source": [
        "Pour ce nouveau modèle, on utiliser les éléments suivants :\n",
        "\n",
        "* **convolutions** `keras.layers.Conv2D` et `MaxPooling2D` - Le réseau commence par deux paires de Conv/MaxPool. La première couche est une convolution Conv2D avec des filtres (3,3) appliqués à l'image d'entrée. Elle  conserve la taille d'image d'origine en utilisant le remplissage (padding), et crée 32 images de sortie (convoluées) (cette couche crée donc 32 images convoluées de la même taille que l'entrée).\n",
        "Ensuite, les 32 sorties sont réduites de taille en utilisant un MaxPooling2D (2,2) avec un décalage de 2. La couche Conv2D suivante a également un noyau (3,3). Elle prend les 32 images en entrée et crée 64 sorties qui sont à nouveau réduites de taille par une couche MaxPooling2D.\n",
        "\n",
        "* **sortie** `keras.layers.Dense` - C'est une couche de 128 neurones suivie d'une couche **softmax** à 10 nœuds. Chaque nœud représente une classe de vêtement. La couche finale prend en entrée les 128 nœuds de la couche précédente et produit une valeur dans la plage [0, 1], représentant la probabilité que l'image appartienne à cette classe. La somme de toutes les valeurs des 10 nœuds est égale à 1."
      ],
      "metadata": {
        "id": "CQ9lAjl0r4wc"
      }
    },
    {
      "cell_type": "code",
      "source": [
        "model2 = keras.Sequential()\n",
        "model2.add(layers.Input((28,28,1))) # pas de flatten car on veut appliquer des convolutions 3x3 (2D)\n",
        "model2.add(layers.Conv2D(32, (3,3), padding='same', activation='relu'))\n",
        "model2.add(layers.MaxPooling2D((2, 2), strides=2)) # le MaxPooling sert juste à \"compresser\" l'information\n",
        "model2.add(layers.Conv2D(64, (3,3), padding='same', activation='relu'))\n",
        "model2.add(layers.MaxPooling2D((2, 2), strides=2))\n",
        "model2.add(layers.Flatten()) # ici on fait Flatten sur l'image \"filtrée\" par les convolutions\n",
        "model2.add(layers.Dense(128, activation='relu'))\n",
        "model2.add(layers.Dense(10, activation='softmax'))\n"
      ],
      "metadata": {
        "id": "eU2-I-2mr9lJ"
      },
      "execution_count": null,
      "outputs": []
    },
    {
      "cell_type": "markdown",
      "source": [
        "Comme précédemment, nous allons *compiler* le modèle en définissant certains paramètres (optimisateur, etc.). Notez qu'on a retiré l'option `(from_logits=True)` car la couche *softmax* est présente cette fois-ci.\n",
        "\n"
      ],
      "metadata": {
        "id": "j4cvyYr8tfUl"
      }
    },
    {
      "cell_type": "code",
      "source": [
        "model2.compile(optimizer='adam',\n",
        "              loss=keras.losses.SparseCategoricalCrossentropy(),\n",
        "              metrics=['accuracy'])"
      ],
      "metadata": {
        "id": "qjiJv45AtosA"
      },
      "execution_count": null,
      "outputs": []
    },
    {
      "cell_type": "code",
      "source": [
        "model2.fit(train_images, train_labels, epochs=10, batch_size=32)"
      ],
      "metadata": {
        "id": "PlnJ7KONvF54"
      },
      "execution_count": null,
      "outputs": []
    },
    {
      "cell_type": "markdown",
      "source": [
        "À mesure que le modèle est entraîne, la perte et l'accuracy sont affichés. Ce modèle atteigne une accuracy autour de 0.97 (ou 97%) sur le dataset d'entraînement."
      ],
      "metadata": {
        "id": "glbRAYAxvM7L"
      }
    },
    {
      "cell_type": "markdown",
      "metadata": {
        "id": "eOH6xCGN4ows"
      },
      "source": [
        "### Évaluer l'accuracy\n",
        "\n",
        "Ensuite, comparez les performances du modèle sur l'ensemble de données de test :"
      ]
    },
    {
      "cell_type": "code",
      "execution_count": null,
      "metadata": {
        "id": "Bop_Mp1k4ow2"
      },
      "outputs": [],
      "source": [
        "test_loss, test_acc = model2.evaluate(test_images, test_labels, verbose=2)\n",
        "\n",
        "print('\\nTest accuracy:', test_acc)"
      ]
    },
    {
      "cell_type": "markdown",
      "metadata": {
        "id": "NGeak_6p4ow3"
      },
      "source": [
        "Même s'il y a une perte par rapport à l'ensemble d'entraînement, ce modèle atteigne plus de 91% d'accuracy sur l'ensemble de test (environ 87% avec le modèle DNN)."
      ]
    },
    {
      "cell_type": "markdown",
      "source": [
        "## Effectuer des prédictions et explorer les résultats\n",
        "Avec le modèle entraîné, nous pouvons faire des predictions avec des nouvelles images."
      ],
      "metadata": {
        "id": "Dcx5MTSuvnxO"
      }
    },
    {
      "cell_type": "code",
      "source": [
        "predictions = model2.predict(test_images)"
      ],
      "metadata": {
        "id": "nDB8RoPfvzMz"
      },
      "execution_count": null,
      "outputs": []
    },
    {
      "cell_type": "code",
      "source": [
        "predictions.shape"
      ],
      "metadata": {
        "id": "ze_OZwhpv0wR"
      },
      "execution_count": null,
      "outputs": []
    },
    {
      "cell_type": "markdown",
      "source": [
        "Ici, le modèle a prédit la probabilité de chaque étiquette pour chaque image de l'ensemble de tests. Jetons un coup d'œil à la première prédiction :"
      ],
      "metadata": {
        "id": "YgoohmiOv_KL"
      }
    },
    {
      "cell_type": "code",
      "source": [
        "predictions[0]"
      ],
      "metadata": {
        "id": "cn2MqyZYwCM8"
      },
      "execution_count": null,
      "outputs": []
    },
    {
      "cell_type": "markdown",
      "source": [
        "Une prédiction est un tableau de 10 nombres. Ils décrivent la \"confiance\" du modèle que l'image correspond à chacun des 10 différents articles vestimentaires. Nous pouvons voir quelle étiquette a la valeur de confiance la plus élevée :"
      ],
      "metadata": {
        "id": "E-IRYaiOwDOB"
      }
    },
    {
      "cell_type": "code",
      "source": [
        "np.argmax(predictions[0])"
      ],
      "metadata": {
        "id": "JFje6hJIwN9O"
      },
      "execution_count": null,
      "outputs": []
    },
    {
      "cell_type": "markdown",
      "source": [
        "Le modèle est généralement le plus confiant que cette image est une chemise, ou `class_names[6]`. Vérifions l'étiquette :"
      ],
      "metadata": {
        "id": "OgFS5OhvwXpy"
      }
    },
    {
      "cell_type": "code",
      "source": [
        "test_labels[0]"
      ],
      "metadata": {
        "id": "QPcq9L43wffd"
      },
      "execution_count": null,
      "outputs": []
    },
    {
      "cell_type": "markdown",
      "source": [
        "Nous pouvons afficher l'ensemble des predictions pour les 10 classes"
      ],
      "metadata": {
        "id": "G_NSbx9YwgUc"
      }
    },
    {
      "cell_type": "code",
      "source": [
        "def plot_image(i, predictions_array, true_labels, images):\n",
        "  predictions_array, true_label, img = predictions_array[i], true_labels[i], images[i]\n",
        "  plt.grid(False)\n",
        "  plt.xticks([])\n",
        "  plt.yticks([])\n",
        "\n",
        "  plt.imshow(img, cmap=plt.cm.binary)\n",
        "\n",
        "  predicted_label = np.argmax(predictions_array)\n",
        "  if predicted_label == true_label:\n",
        "    color = 'blue'\n",
        "  else:\n",
        "    color = 'red'\n",
        "\n",
        "  plt.xlabel(\"{} {:2.0f}% ({})\".format(class_names[predicted_label],\n",
        "                                100*np.max(predictions_array),\n",
        "                                class_names[true_label]),\n",
        "                                color=color)\n",
        "\n",
        "def plot_value_array(i, predictions_array, true_label):\n",
        "  predictions_array, true_label = predictions_array[i], true_label[i]\n",
        "  plt.grid(False)\n",
        "  plt.xticks([])\n",
        "  plt.yticks([])\n",
        "  thisplot = plt.bar(range(10), predictions_array, color=\"#777777\")\n",
        "  plt.ylim([0, 1])\n",
        "  predicted_label = np.argmax(predictions_array)\n",
        "\n",
        "  thisplot[predicted_label].set_color('red')\n",
        "  thisplot[true_label].set_color('blue')"
      ],
      "metadata": {
        "id": "AGa6wnvLwnnX"
      },
      "execution_count": null,
      "outputs": []
    },
    {
      "cell_type": "markdown",
      "source": [
        "Regardons les images 0 et 12, avec leur prédiction et array de probabilités."
      ],
      "metadata": {
        "id": "3DJfdqsJwwpO"
      }
    },
    {
      "cell_type": "code",
      "source": [
        "i = 0\n",
        "plt.figure(figsize=(6,3))\n",
        "plt.subplot(1,2,1)\n",
        "plot_image(i, predictions, test_labels, test_images)\n",
        "plt.subplot(1,2,2)\n",
        "plot_value_array(i, predictions, test_labels)"
      ],
      "metadata": {
        "id": "ERyeaudZw2LQ"
      },
      "execution_count": null,
      "outputs": []
    },
    {
      "cell_type": "code",
      "source": [
        "i = 12\n",
        "plt.figure(figsize=(6,3))\n",
        "plt.subplot(1,2,1)\n",
        "plot_image(i, predictions, test_labels, test_images)\n",
        "plt.subplot(1,2,2)\n",
        "plot_value_array(i, predictions, test_labels)"
      ],
      "metadata": {
        "id": "qPnGip4qw885"
      },
      "execution_count": null,
      "outputs": []
    },
    {
      "cell_type": "markdown",
      "source": [
        "Tiens, il a reconnu correctement les sneakers (sur le modèle DNN simple, on avait classé comme sandal)"
      ],
      "metadata": {
        "id": "_q6_C7QLhXJ1"
      }
    },
    {
      "cell_type": "markdown",
      "source": [
        "Affichons plusieurs images avec leurs prédictions. Les étiquettes de prédiction correctes sont en bleu et les étiquettes de prédiction incorrectes sont en rouge. Le nombre indique le pourcentage (sur 100) pour l'étiquette prédite. Notez qu'il peut y avoir des erreurs même lorsque la confiance est très élevée."
      ],
      "metadata": {
        "id": "_AZ2G4cnxDG0"
      }
    },
    {
      "cell_type": "code",
      "source": [
        "# Plot the first X test images, their predicted label, and the true label\n",
        "# Color correct predictions in blue, incorrect predictions in red\n",
        "num_rows = 5\n",
        "num_cols = 3\n",
        "num_images = num_rows*num_cols\n",
        "plt.figure(figsize=(2*2*num_cols, 2*num_rows))\n",
        "for i in range(num_images):\n",
        "  plt.subplot(num_rows, 2*num_cols, 2*i+1)\n",
        "  plot_image(i, predictions, test_labels, test_images)\n",
        "  plt.subplot(num_rows, 2*num_cols, 2*i+2)\n",
        "  plot_value_array(i, predictions, test_labels)"
      ],
      "metadata": {
        "id": "pHKE2QzExCj7"
      },
      "execution_count": null,
      "outputs": []
    },
    {
      "cell_type": "markdown",
      "metadata": {
        "id": "7AkKVxZgxero"
      },
      "source": [
        "## Utiliser le modèle entraîné\n",
        "Enfin, utilisez le modèle entraîné pour faire une prédiction sur une seule image."
      ]
    },
    {
      "cell_type": "code",
      "execution_count": null,
      "metadata": {
        "id": "t5MW2tuNxery"
      },
      "outputs": [],
      "source": [
        "# Grab an image from the test dataset.\n",
        "img = test_images[50]\n",
        "label_single = (test_labels[50],0) # Comme on n'a qu'une valeur, on la met en forme de tuple\n",
        "\n",
        "print(img.shape)\n",
        "\n",
        "plt.imshow(img, cmap=plt.cm.binary)\n",
        "\n"
      ]
    },
    {
      "cell_type": "markdown",
      "metadata": {
        "id": "-5k4WpK7xery"
      },
      "source": [
        "Les modèles `keras` sont optimisés pour effectuer des prédictions sur un *lot* (batch) ou une collection d'exemples à la fois. Par conséquent, même si vous utilisez une seule image, vous devez l'ajouter à une liste :"
      ]
    },
    {
      "cell_type": "code",
      "execution_count": null,
      "metadata": {
        "id": "eUl37ql1xery"
      },
      "outputs": [],
      "source": [
        "# Add the image to a batch where it's the only member.\n",
        "img = np.array([img])\n",
        "\n",
        "print(img.shape)"
      ]
    },
    {
      "cell_type": "markdown",
      "metadata": {
        "id": "u-yIX9xRxerz"
      },
      "source": [
        "Prédisez maintenant le bon libellé pour cette image :"
      ]
    },
    {
      "cell_type": "code",
      "execution_count": null,
      "metadata": {
        "id": "1-g3Pt4exerz"
      },
      "outputs": [],
      "source": [
        "predictions_single = model2.predict(img)\n",
        "print(predictions_single)"
      ]
    },
    {
      "cell_type": "code",
      "execution_count": null,
      "metadata": {
        "id": "_ol2r5oTxerz"
      },
      "outputs": [],
      "source": [
        "plot_value_array(0, predictions_single, label_single)\n",
        "_ = plt.xticks(range(10), class_names, rotation=45)"
      ]
    },
    {
      "cell_type": "markdown",
      "metadata": {
        "id": "D8VJhTfOx7_2"
      },
      "source": [
        "`keras.Model.predict` renvoie une liste de listes, une liste pour chaque image du lot de données. Saisissez les prédictions pour notre (seule) image dans le lot :"
      ]
    },
    {
      "cell_type": "code",
      "execution_count": null,
      "metadata": {
        "id": "hAVlLsvkx7_3"
      },
      "outputs": [],
      "source": [
        "np.argmax(predictions_single[0])"
      ]
    },
    {
      "cell_type": "markdown",
      "source": [
        "Et le modèle prédit une étiquette 4 (Coat) comme attendu."
      ],
      "metadata": {
        "id": "Z53rizdsyDQc"
      }
    },
    {
      "cell_type": "code",
      "source": [],
      "metadata": {
        "id": "WWbyYws2hvRC"
      },
      "execution_count": null,
      "outputs": []
    }
  ],
  "metadata": {
    "colab": {
      "toc_visible": true,
      "provenance": [],
      "gpuType": "T4",
      "include_colab_link": true
    },
    "kernelspec": {
      "display_name": "Python 3",
      "name": "python3"
    },
    "accelerator": "GPU"
  },
  "nbformat": 4,
  "nbformat_minor": 0
}